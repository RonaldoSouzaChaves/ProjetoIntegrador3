{
 "cells": [
  {
   "cell_type": "markdown",
   "metadata": {},
   "source": [
    "Notebook criado para o desenvolvimento de Machine Learning do projeto \"Crimes em Chicago\", produzido para a disciplina 'Projeto Integrador III', do curso de Tecnologia em Big Data para Negócios, da FATEC Ipiranga. "
   ]
  },
  {
   "cell_type": "markdown",
   "metadata": {},
   "source": [
    "Instala-se a biblioteca psycopg2, para a conexão do notebook com o banco de dados PostgreSQL no qual se encontra o data warehouse do projeto."
   ]
  },
  {
   "cell_type": "code",
   "execution_count": 2,
   "metadata": {},
   "outputs": [
    {
     "name": "stdout",
     "output_type": "stream",
     "text": [
      "Collecting psycopg2\n",
      "  Obtaining dependency information for psycopg2 from https://files.pythonhosted.org/packages/37/2c/5133dd3183a3bd82371569f0dd783e6927672de7e671b278ce248810b7f7/psycopg2-2.9.9-cp311-cp311-win_amd64.whl.metadata\n",
      "  Downloading psycopg2-2.9.9-cp311-cp311-win_amd64.whl.metadata (4.5 kB)\n",
      "Downloading psycopg2-2.9.9-cp311-cp311-win_amd64.whl (1.2 MB)\n",
      "   ---------------------------------------- 0.0/1.2 MB ? eta -:--:--\n",
      "   ---------------------------------------- 0.0/1.2 MB ? eta -:--:--\n",
      "   -- ------------------------------------- 0.1/1.2 MB 825.8 kB/s eta 0:00:02\n",
      "   ----- ---------------------------------- 0.2/1.2 MB 1.4 MB/s eta 0:00:01\n",
      "   -------- ------------------------------- 0.2/1.2 MB 1.5 MB/s eta 0:00:01\n",
      "   ----------- ---------------------------- 0.3/1.2 MB 1.6 MB/s eta 0:00:01\n",
      "   ---------------- ----------------------- 0.5/1.2 MB 1.8 MB/s eta 0:00:01\n",
      "   ------------------- -------------------- 0.6/1.2 MB 1.9 MB/s eta 0:00:01\n",
      "   -------------------- ------------------- 0.6/1.2 MB 1.8 MB/s eta 0:00:01\n",
      "   ------------------------ --------------- 0.7/1.2 MB 1.7 MB/s eta 0:00:01\n",
      "   --------------------------- ------------ 0.8/1.2 MB 1.8 MB/s eta 0:00:01\n",
      "   ------------------------------- -------- 0.9/1.2 MB 1.8 MB/s eta 0:00:01\n",
      "   ---------------------------------- ----- 1.0/1.2 MB 1.9 MB/s eta 0:00:01\n",
      "   -------------------------------------- - 1.1/1.2 MB 1.9 MB/s eta 0:00:01\n",
      "   ---------------------------------------  1.2/1.2 MB 1.9 MB/s eta 0:00:01\n",
      "   ---------------------------------------  1.2/1.2 MB 1.9 MB/s eta 0:00:01\n",
      "   ---------------------------------------- 1.2/1.2 MB 1.7 MB/s eta 0:00:00\n",
      "Installing collected packages: psycopg2\n",
      "Successfully installed psycopg2-2.9.9\n",
      "Note: you may need to restart the kernel to use updated packages.\n"
     ]
    },
    {
     "name": "stderr",
     "output_type": "stream",
     "text": [
      "\n",
      "[notice] A new release of pip is available: 23.2.1 -> 23.3.1\n",
      "[notice] To update, run: python.exe -m pip install --upgrade pip\n"
     ]
    }
   ],
   "source": [
    "%pip install psycopg2"
   ]
  },
  {
   "cell_type": "markdown",
   "metadata": {},
   "source": [
    "Após a instalação, também importa-se a biblioteca pandas para a manipulação de dados."
   ]
  },
  {
   "cell_type": "code",
   "execution_count": 5,
   "metadata": {},
   "outputs": [],
   "source": [
    "import psycopg2 as ps2\n",
    "import pandas as pd"
   ]
  },
  {
   "cell_type": "markdown",
   "metadata": {},
   "source": [
    "Iniciam-se variáveis com os parametros necessários para a criação de uma string de conexão com o banco de dados."
   ]
  },
  {
   "cell_type": "code",
   "execution_count": 18,
   "metadata": {},
   "outputs": [],
   "source": [
    "db_host = 'endereço no qual o banco de dados está hospedado'\n",
    "db_port = 'porta do banco de dados'\n",
    "db_name = 'nome do banco de dados'\n",
    "db_user = 'nome do usuário'\n",
    "db_password = 'senha do usuário'"
   ]
  },
  {
   "cell_type": "markdown",
   "metadata": {},
   "source": [
    "Criação da string de conexão, a partir dos parametros passados anteriormente."
   ]
  },
  {
   "cell_type": "code",
   "execution_count": 19,
   "metadata": {},
   "outputs": [],
   "source": [
    "conexao = ps2.connect(\n",
    "    host=db_host,\n",
    "    port=db_port,\n",
    "    dbname=db_name,\n",
    "    user=db_user,\n",
    "    password=db_password\n",
    ")"
   ]
  },
  {
   "cell_type": "markdown",
   "metadata": {},
   "source": [
    "Transformação das tabelas do banco de dados em dataframes."
   ]
  },
  {
   "cell_type": "code",
   "execution_count": 20,
   "metadata": {},
   "outputs": [
    {
     "name": "stderr",
     "output_type": "stream",
     "text": [
      "C:\\Users\\rsouz\\AppData\\Local\\Temp\\ipykernel_20968\\505166177.py:2: UserWarning: pandas only supports SQLAlchemy connectable (engine/connection) or database string URI or sqlite3 DBAPI2 connection. Other DBAPI2 objects are not tested. Please consider using SQLAlchemy.\n",
      "  df = pd.read_sql(query, connection)\n"
     ]
    }
   ],
   "source": [
    "query = \"SELECT * FROM dim_localizacao\"\n",
    "dfLocalizacao = pd.read_sql(query, conexao)\n",
    "dfLocalizacao"
   ]
  },
  {
   "cell_type": "code",
   "execution_count": 21,
   "metadata": {},
   "outputs": [
    {
     "data": {
      "text/html": [
       "<div>\n",
       "<style scoped>\n",
       "    .dataframe tbody tr th:only-of-type {\n",
       "        vertical-align: middle;\n",
       "    }\n",
       "\n",
       "    .dataframe tbody tr th {\n",
       "        vertical-align: top;\n",
       "    }\n",
       "\n",
       "    .dataframe thead th {\n",
       "        text-align: right;\n",
       "    }\n",
       "</style>\n",
       "<table border=\"1\" class=\"dataframe\">\n",
       "  <thead>\n",
       "    <tr style=\"text-align: right;\">\n",
       "      <th></th>\n",
       "      <th>beat</th>\n",
       "      <th>distrito</th>\n",
       "    </tr>\n",
       "  </thead>\n",
       "  <tbody>\n",
       "    <tr>\n",
       "      <th>0</th>\n",
       "      <td>111</td>\n",
       "      <td>1</td>\n",
       "    </tr>\n",
       "    <tr>\n",
       "      <th>1</th>\n",
       "      <td>112</td>\n",
       "      <td>1</td>\n",
       "    </tr>\n",
       "    <tr>\n",
       "      <th>2</th>\n",
       "      <td>113</td>\n",
       "      <td>1</td>\n",
       "    </tr>\n",
       "    <tr>\n",
       "      <th>3</th>\n",
       "      <td>114</td>\n",
       "      <td>1</td>\n",
       "    </tr>\n",
       "    <tr>\n",
       "      <th>4</th>\n",
       "      <td>121</td>\n",
       "      <td>1</td>\n",
       "    </tr>\n",
       "    <tr>\n",
       "      <th>...</th>\n",
       "      <td>...</td>\n",
       "      <td>...</td>\n",
       "    </tr>\n",
       "    <tr>\n",
       "      <th>299</th>\n",
       "      <td>2531</td>\n",
       "      <td>25</td>\n",
       "    </tr>\n",
       "    <tr>\n",
       "      <th>300</th>\n",
       "      <td>2532</td>\n",
       "      <td>25</td>\n",
       "    </tr>\n",
       "    <tr>\n",
       "      <th>301</th>\n",
       "      <td>2533</td>\n",
       "      <td>25</td>\n",
       "    </tr>\n",
       "    <tr>\n",
       "      <th>302</th>\n",
       "      <td>2534</td>\n",
       "      <td>25</td>\n",
       "    </tr>\n",
       "    <tr>\n",
       "      <th>303</th>\n",
       "      <td>2535</td>\n",
       "      <td>25</td>\n",
       "    </tr>\n",
       "  </tbody>\n",
       "</table>\n",
       "<p>304 rows × 2 columns</p>\n",
       "</div>"
      ],
      "text/plain": [
       "     beat  distrito\n",
       "0     111         1\n",
       "1     112         1\n",
       "2     113         1\n",
       "3     114         1\n",
       "4     121         1\n",
       "..    ...       ...\n",
       "299  2531        25\n",
       "300  2532        25\n",
       "301  2533        25\n",
       "302  2534        25\n",
       "303  2535        25\n",
       "\n",
       "[304 rows x 2 columns]"
      ]
     },
     "execution_count": 21,
     "metadata": {},
     "output_type": "execute_result"
    }
   ],
   "source": [
    "query = \"SELECT * FROM dim_tipoCrime\"\n",
    "dfTipoCrime = pd.read_sql(query, conexao)\n",
    "dfTipoCrime"
   ]
  },
  {
   "cell_type": "code",
   "execution_count": null,
   "metadata": {},
   "outputs": [],
   "source": [
    "query = \"SELECT * FROM dim_tempo\"\n",
    "dfTempo = pd.read_sql(query, conexao)\n",
    "dfTempo"
   ]
  },
  {
   "cell_type": "code",
   "execution_count": null,
   "metadata": {},
   "outputs": [],
   "source": [
    "query = \"SELECT * FROM fato_casos\"\n",
    "dfCasos = pd.read_sql(query, conexao)\n",
    "dfCasos"
   ]
  },
  {
   "cell_type": "markdown",
   "metadata": {},
   "source": [
    "Após os dados serem passados a dataframes, fecha-se a conexão com o banco de dados."
   ]
  },
  {
   "cell_type": "code",
   "execution_count": null,
   "metadata": {},
   "outputs": [],
   "source": [
    "conexao.close()"
   ]
  }
 ],
 "metadata": {
  "kernelspec": {
   "display_name": "Python 3",
   "language": "python",
   "name": "python3"
  },
  "language_info": {
   "codemirror_mode": {
    "name": "ipython",
    "version": 3
   },
   "file_extension": ".py",
   "mimetype": "text/x-python",
   "name": "python",
   "nbconvert_exporter": "python",
   "pygments_lexer": "ipython3",
   "version": "3.11.5"
  }
 },
 "nbformat": 4,
 "nbformat_minor": 2
}
