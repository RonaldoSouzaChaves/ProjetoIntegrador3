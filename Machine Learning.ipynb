{
 "cells": [
  {
   "cell_type": "markdown",
   "metadata": {},
   "source": [
    "Notebook criado para o desenvolvimento de Machine Learning do projeto \"Crimes em Chicago\", produzido para a disciplina 'Projeto Integrador III', do curso de Tecnologia em Big Data para Negócios, da FATEC Ipiranga. "
   ]
  },
  {
   "cell_type": "markdown",
   "metadata": {},
   "source": [
    "Instala-se a biblioteca psycopg2, para a conexão do notebook com o banco de dados PostgreSQL no qual se encontra o data warehouse do projeto."
   ]
  },
  {
   "cell_type": "code",
   "execution_count": null,
   "metadata": {},
   "outputs": [],
   "source": [
    "%pip install psycopg2"
   ]
  },
  {
   "cell_type": "markdown",
   "metadata": {},
   "source": [
    "Após a instalação, também importa-se a biblioteca pandas para a manipulação de dados."
   ]
  },
  {
   "cell_type": "code",
   "execution_count": null,
   "metadata": {},
   "outputs": [],
   "source": [
    "import psycopg2 as ps2\n",
    "import pandas as pd\n",
    "import random"
   ]
  },
  {
   "cell_type": "markdown",
   "metadata": {},
   "source": [
    "Iniciam-se variáveis com os parametros necessários para a criação de uma string de conexão com o banco de dados."
   ]
  },
  {
   "cell_type": "code",
   "execution_count": null,
   "metadata": {},
   "outputs": [],
   "source": [
    "db_host = 'endereço no qual o banco de dados está hospedado'\n",
    "db_port = 'porta do banco de dados'\n",
    "db_name = 'nome do banco de dados'\n",
    "db_user = 'nome do usuário'\n",
    "db_password = 'senha do usuário'"
   ]
  },
  {
   "cell_type": "markdown",
   "metadata": {},
   "source": [
    "Criação da string de conexão, a partir dos parametros passados anteriormente."
   ]
  },
  {
   "cell_type": "code",
   "execution_count": null,
   "metadata": {},
   "outputs": [],
   "source": [
    "conexao = ps2.connect(\n",
    "    host=db_host,\n",
    "    port=db_port,\n",
    "    dbname=db_name,\n",
    "    user=db_user,\n",
    "    password=db_password\n",
    ")"
   ]
  },
  {
   "cell_type": "markdown",
   "metadata": {},
   "source": [
    "Transformação das tabelas do banco de dados em dataframes."
   ]
  },
  {
   "cell_type": "code",
   "execution_count": null,
   "metadata": {},
   "outputs": [],
   "source": [
    "query = \"SELECT * FROM dim_localizacao\"\n",
    "dfLocalizacao = pd.read_sql(query, conexao)\n",
    "dfLocalizacao"
   ]
  },
  {
   "cell_type": "code",
   "execution_count": null,
   "metadata": {},
   "outputs": [],
   "source": [
    "query = \"SELECT * FROM dim_tipoCrime\"\n",
    "dfTipoCrime = pd.read_sql(query, conexao)\n",
    "dfTipoCrime"
   ]
  },
  {
   "cell_type": "code",
   "execution_count": null,
   "metadata": {},
   "outputs": [],
   "source": [
    "query = \"SELECT * FROM dim_tempo\"\n",
    "dfTempo = pd.read_sql(query, conexao)\n",
    "dfTempo"
   ]
  },
  {
   "cell_type": "code",
   "execution_count": null,
   "metadata": {},
   "outputs": [],
   "source": [
    "query = \"SELECT * FROM fato_casos\"\n",
    "dfCasos = pd.read_sql(query, conexao)\n",
    "dfCasos"
   ]
  },
  {
   "cell_type": "markdown",
   "metadata": {},
   "source": [
    "Criação de um arquivo com um sample de 10 mil tuplas aleatórias, provenientes da tabela fato_casos, localizada no data warehouse do projeto."
   ]
  },
  {
   "cell_type": "code",
   "execution_count": null,
   "metadata": {},
   "outputs": [],
   "source": [
    "query = \"SELECT * FROM fato_casos ORDER BY RANDOM() LIMIT 10000\"\n",
    "\n",
    "with conexao.cursor() as cursor:\n",
    "    cursor.execute(query)\n",
    "    resultado = cursor.fetchall()\n",
    "\n",
    "cursor.close()"
   ]
  },
  {
   "cell_type": "markdown",
   "metadata": {},
   "source": [
    "Criação de um arquivo .csv que armazena os resultados da consulta."
   ]
  },
  {
   "cell_type": "code",
   "execution_count": null,
   "metadata": {},
   "outputs": [],
   "source": [
    "nomeColunas = [descricao[0] for descricao in cursor.description]\n",
    "sampleCasos = pd.DataFrame(resultado, columns=nomeColunas)\n",
    "sampleCasos.to_csv('sampleCasos.csv', index=False)"
   ]
  },
  {
   "cell_type": "markdown",
   "metadata": {},
   "source": [
    "Após os dados necessários serem extraídos, fecha-se a conexão com o banco de dados."
   ]
  },
  {
   "cell_type": "code",
   "execution_count": null,
   "metadata": {},
   "outputs": [],
   "source": [
    "conexao.close()"
   ]
  }
 ],
 "metadata": {
  "kernelspec": {
   "display_name": "Python 3",
   "language": "python",
   "name": "python3"
  },
  "language_info": {
   "codemirror_mode": {
    "name": "ipython",
    "version": 3
   },
   "file_extension": ".py",
   "mimetype": "text/x-python",
   "name": "python",
   "nbconvert_exporter": "python",
   "pygments_lexer": "ipython3",
   "version": "3.11.5"
  }
 },
 "nbformat": 4,
 "nbformat_minor": 2
}
